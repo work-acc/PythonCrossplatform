{
 "cells": [
  {
   "cell_type": "markdown",
   "metadata": {},
   "source": [
    "# Индивидуальное задание\n",
    "## Задание\n",
    "Чему равна архимедова сила, действующая в воде на тела объемом 100 см3, сделанные одно из пробки, другое из свинца? Чему для каждого из этих тел равна равнодействующая двух сил - силы тяжести и архимедовой силы? Как она направлена?\n",
    "\n",
    "## Дано:\n",
    "$ V_1 = 100 см^2 = 0,0001 м^3 \\\\\n",
    "V_2 = 100 см^2 = 0,0001 м^3 \\\\\n",
    "ρ_1 = 240 кг/м^3  \\\\\n",
    "ρ_2 = 11300 кг/м^3 \\\\\n",
    "ρ_ж = 1000 кг/м^3 \\\\\n",
    "g = 10 Н/кг $\n",
    "## Найти:\n",
    "$ F_A - ? \\\\\n",
    "R - ? \\\\\n",
    "F_T - ? \\\\ $\n",
    "## Решение:\n",
    "1) Необходимые формулы\n",
    "\n",
    "$ F_A = ρg_жV_Т \\\\\n",
    "F_{A1} = F_{A2} \\\\\n",
    "F_T = mg \\\\\n",
    "m = ρV \\\\ \n",
    "F_{тяж} = ρ_TV_Tg \\\\\n",
    "R_1 = F_A - F_T \\\\\n",
    "R_2 = F_T - F_A $\n",
    "\n",
    "2) Запишем код для нахождения $ F_{A1} $\n"
   ]
  },
  {
   "cell_type": "code",
   "execution_count": null,
   "metadata": {},
   "outputs": [],
   "source": [
    "g = 10\n",
    "p = 1000\n",
    "V = 0.0001\n",
    "F = g * p * V\n",
    "print(\"F =\",F , \"Н\")"
   ]
  },
  {
   "cell_type": "markdown",
   "metadata": {},
   "source": [
    "3) Запишем код для нахождения $ F_{T1} $"
   ]
  },
  {
   "cell_type": "code",
   "execution_count": 12,
   "metadata": {},
   "outputs": [
    {
     "name": "stdout",
     "output_type": "stream",
     "text": [
      "F = 0.24000000000000002 Н\n"
     ]
    }
   ],
   "source": [
    "g = 10\n",
    "p = 240\n",
    "V = 0.0001\n",
    "F = g * p * V\n",
    "print(\"F =\",F , \"Н\")"
   ]
  },
  {
   "cell_type": "markdown",
   "metadata": {},
   "source": [
    "4) Запишем код для нахождения $ F_{T2} $"
   ]
  },
  {
   "cell_type": "code",
   "execution_count": 13,
   "metadata": {},
   "outputs": [
    {
     "name": "stdout",
     "output_type": "stream",
     "text": [
      "F = 11.3 Н\n"
     ]
    }
   ],
   "source": [
    "g = 10\n",
    "p = 11300\n",
    "V = 0.0001\n",
    "F = g * p * V\n",
    "print(\"F =\",F , \"Н\")"
   ]
  },
  {
   "cell_type": "markdown",
   "metadata": {},
   "source": [
    "5) Запишем код для нахождения $ R_{1} $"
   ]
  },
  {
   "cell_type": "code",
   "execution_count": 16,
   "metadata": {},
   "outputs": [
    {
     "name": "stdout",
     "output_type": "stream",
     "text": [
      "R = 0.76 Н\n"
     ]
    }
   ],
   "source": [
    "F1 = 1\n",
    "F2 = 0.24\n",
    "R = F1 - F2\n",
    "print(\"R =\",R , \"Н\")"
   ]
  },
  {
   "cell_type": "markdown",
   "metadata": {},
   "source": [
    "6) Запишем код для нахождения $ R_{2} $"
   ]
  },
  {
   "cell_type": "code",
   "execution_count": 15,
   "metadata": {},
   "outputs": [
    {
     "name": "stdout",
     "output_type": "stream",
     "text": [
      "R = 10.3 Н\n"
     ]
    }
   ],
   "source": [
    "F1 = 11.3\n",
    "F2 = 1\n",
    "R = F1 - F2\n",
    "print(\"R =\",R , \"Н\")"
   ]
  },
  {
   "cell_type": "markdown",
   "metadata": {},
   "source": [
    "Соответственно $ R_{2} $ направленна вниз"
   ]
  },
  {
   "cell_type": "markdown",
   "metadata": {},
   "source": [
    "## Ответ: \n",
    "$ F_A = 1 Н; \\\\\n",
    "F_{T1} = 0,24 Н; \\\\ \n",
    "F_{T2} = 11,3 Н; \\\\\n",
    "R_{2}\\ \\text{направленна вниз} $"
   ]
  },
  {
   "cell_type": "code",
   "execution_count": null,
   "metadata": {},
   "outputs": [],
   "source": []
  }
 ],
 "metadata": {
  "kernelspec": {
   "display_name": "Python 3",
   "language": "python",
   "name": "python3"
  },
  "language_info": {
   "codemirror_mode": {
    "name": "ipython",
    "version": 3
   },
   "file_extension": ".py",
   "mimetype": "text/x-python",
   "name": "python",
   "nbconvert_exporter": "python",
   "pygments_lexer": "ipython3",
   "version": "3.8.5"
  }
 },
 "nbformat": 4,
 "nbformat_minor": 4
}
